{
 "cells": [
  {
   "cell_type": "code",
   "execution_count": null,
   "id": "e444f68f-45b6-4d1e-a1d9-6e537a897e65",
   "metadata": {},
   "outputs": [],
   "source": [
    "import numpy as np\n",
    "import matplotlib.pyplot as plt\n",
    "import astropy.io.fits as fits\n",
    "from astropy.utils.data import download_file\n",
    "from skimage import filters\n",
    "\n",
    "# Load FITS image\n",
    "image_file = download_file('http://data.astropy.org/tutorials/FITS-images/HorseHead.fits', cache=True )\n",
    "hdulist = fits.open(image_file)\n",
    "image = hdulist[0].data\n",
    "\n",
    "# Save FITS image as PNG\n",
    "plt.imsave('/output/original.png', image, cmap='gray')\n",
    "\n",
    "# Apply filters\n",
    "gaussian_image = filters.gaussian(image, sigma=2)\n",
    "sobel_image = filters.sobel(image)\n",
    "\n",
    "# Save filtered images as PNGs\n",
    "plt.imsave('/output/gaussian.png', gaussian_image, cmap='gray')\n",
    "plt.imsave('/output/sobel.png', sobel_image, cmap='gray')\n",
    "\n",
    "# Display original and filtered images\n",
    "fig, axs = plt.subplots(2, 2, figsize=(8, 8))\n",
    "axs[0, 0].imshow(image, cmap='gray')\n",
    "axs[0, 0].set_title('Original')\n",
    "axs[0, 1].imshow(gaussian_image, cmap='gray')\n",
    "axs[0, 1].set_title('Gaussian')\n",
    "axs[1, 0].imshow(sobel_image, cmap='gray')\n",
    "axs[1, 0].set_title('Sobel')\n",
    "axs[1, 1].axis('off')\n",
    "\n",
    "# Save figure as PNG\n",
    "fig.savefig('/output/filtered.png')"
   ]
  }
 ],
 "metadata": {
  "kernelspec": {
   "display_name": "Python 3 (ipykernel)",
   "language": "python",
   "name": "python3"
  },
  "language_info": {
   "codemirror_mode": {
    "name": "ipython",
    "version": 3
   },
   "file_extension": ".py",
   "mimetype": "text/x-python",
   "name": "python",
   "nbconvert_exporter": "python",
   "pygments_lexer": "ipython3",
   "version": "3.9.10"
  }
 },
 "nbformat": 4,
 "nbformat_minor": 5
}
